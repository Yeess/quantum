{
 "cells": [
  {
   "cell_type": "code",
   "execution_count": 21,
   "metadata": {
    "collapsed": true
   },
   "outputs": [],
   "source": [
    "import pandas as pd\n",
    "import os\n",
    "from math import *\n",
    "import re\n",
    "from datetime import datetime, date, time, timedelta\n",
    "import fix_yahoo_finance as yf\n",
    "from time import sleep\n",
    "\n",
    "#universe = ['spy','ark'] \n",
    "universe = ['spy'] \n",
    "#variables for data download\n",
    "frame = 20 #for limiting the range of optimizations, 1 year\n",
    "hist_window = frame * 5 #for historical pricing\n",
    "date_fmt = '%Y-%m-%d'\n",
    "start_date = datetime.now() - timedelta(hist_window)\n",
    "start_date = start_date.strftime(date_fmt)\n",
    "sleep_time = 5\n",
    "\n",
    "## Script que obtiene los datos de las fuentes:\n",
    "# 1. Sector components   : Contiene la información de los ETF sectors y sus componentes\n",
    "# 2. Pricing            : Contiene la informacion historica de precios de cada uno de los componentes"
   ]
  },
  {
   "cell_type": "code",
   "execution_count": 22,
   "metadata": {},
   "outputs": [
    {
     "name": "stdout",
     "output_type": "stream",
     "text": [
      "loaded: xlb\n",
      "loaded: xle\n",
      "loaded: xlf\n",
      "loaded: xli\n",
      "loaded: xlk\n",
      "loaded: xlp\n",
      "loaded: xlre\n",
      "loaded: xlu\n",
      "loaded: xlv\n",
      "loaded: xly\n",
      "Companies loaded: (505, 4)\n"
     ]
    }
   ],
   "source": [
    "################################################################################################################################\n",
    "### 1. Sector components:\n",
    "# de donde se extrae esta info, con que frecuencia se actualiza?\n",
    "\n",
    "component_path = \"./sector_components/\"\n",
    "\n",
    "## 1.1 descargar componentes del server:\n",
    "#### aqui de donde se descargan los datos???????\n",
    "\n",
    "## 1.2 cargar los sector componentes para cada benchmark, cargar cada ETF sector para cada benchmark\n",
    "# y cada company para cada ETF sectior y limpiarlos\n",
    "\n",
    "def load_companies(benchmark,skiprows,columns): ## el input es el nombre del benchmark, si ignora o no el primer row y el nombre de las columnas que son de interes, primero ticker y luego nombre de la compañia\n",
    "    resultados_benchmark = {}\n",
    "    resultados_companies = {}\n",
    "    resultados = pd.DataFrame([])\n",
    "    ## que ETF SECTOR tiene el benchmark?: calcularlo:\n",
    "    directory=component_path+benchmark ## directorio donde se buscará los archivos\n",
    "    file_list=os.listdir(directory)    ## lista de archivos en el directorio\n",
    "    files = [f for f in file_list if bool(re.search(\"-\"+benchmark+\"-\", f))] ## lista de archivos .etf sectors\n",
    "    for key in files: ## loop que recorre todos los etf sectors\n",
    "        aux = pd.read_csv(directory+\"/\"+key,skiprows=skiprows)[columns] ## load companies\n",
    "        aux.columns=[\"ticker\",\"company_name\"]\n",
    "        aux[\"benchmark\"]=benchmark ## agrega columna con nombre del benchmark\n",
    "        aux[\"etf_sector\"]=re.search(\"\\-([a-z]*?)\\.csv\",key).groups()[0]  # agrega columna con nonmbre del etf sector\n",
    "        print(\"loaded: \"+ re.search(\"\\-([a-z]*?)\\.csv\",key).groups()[0])\n",
    "        resultados=resultados.append(aux)\n",
    "        resultados_companies[re.search(\"\\-([a-z]*?)\\.csv\",key).groups()[0]] = aux.ticker.tolist()\n",
    "    resultados_benchmark[benchmark]=resultados.etf_sector.unique().tolist()\n",
    "    return resultados,resultados_benchmark,resultados_companies\n",
    "\n",
    "\n",
    "companies_spy,benchmark_spy_etf_map,spy_sector_tickers_map=load_companies(benchmark=\"spy\",skiprows=1,columns=['Symbol', 'Company Name']) ## companies del benchmark spy\n",
    "print(\"Companies loaded:\", companies_spy.shape)\n",
    "\n",
    "#companies_ark,benchmark_ark_etf_map1,ark_sector_tickers_map1=load_companies(benchmark=\"ark\",skiprows=0,columns=['ticker','company']) ## companies del benchmark ark\n",
    "#print(\"Companies loaded:\", companies1.shape)"
   ]
  },
  {
   "cell_type": "code",
   "execution_count": 23,
   "metadata": {
    "collapsed": true
   },
   "outputs": [],
   "source": [
    "### aqui generalizar para mas benchmarks\n",
    "companies_universe=companies_spy.copy()\n",
    "sector_etf = benchmark_spy_etf_map.copy()\n",
    "ticker_map=spy_sector_tickers_map.copy()"
   ]
  },
  {
   "cell_type": "code",
   "execution_count": 24,
   "metadata": {
    "collapsed": true
   },
   "outputs": [],
   "source": [
    "################################################################################################################################\n",
    "# 2. Princing            : Contiene la informacion historica de precios de cada uno de los componentes\n",
    "\n",
    "## 2.1 descargar componentes del server:\n",
    "\n",
    "pricing_path = \"./pricing/\"\n",
    "\n",
    "def get_pricing(output_name,ticker_list,start_date):\n",
    "    try:\n",
    "        if isinstance(ticker_list, list)==False:\n",
    "            ticker_list=[ticker_list]\n",
    "        px = yf.download(ticker_list, start=start_date)['Adj Close']\n",
    "        if isinstance(px, pd.DataFrame)==False: \n",
    "            px=px.to_frame()\n",
    "            px.columns=ticker_list\n",
    "        px.sort_index(ascending=True, inplace=True)\n",
    "        px.to_csv(output_name)\n",
    "        print(output_name)\n",
    "        #return px\n",
    "    except Exception as err:\n",
    "        print(\"Error: {0}, waiting to try again in {1}\".format(err, sleep_time))\n",
    "        print(output_name)\n",
    "        sleep(sleep_time)\n",
    "\n",
    "\n"
   ]
  },
  {
   "cell_type": "code",
   "execution_count": 25,
   "metadata": {},
   "outputs": [
    {
     "name": "stdout",
     "output_type": "stream",
     "text": [
      "[*********************100%***********************]  25 of 25 downloaded\n",
      "./pricing/spy/xlb-hold-pricing.csv\n",
      "[*********************100%***********************]  32 of 32 downloaded\n",
      "./pricing/spy/xle-hold-pricing.csv\n",
      "[*********************100%***********************]  67 of 67 downloaded\n",
      "./pricing/spy/xlf-hold-pricing.csv\n",
      "[*********************100%***********************]  70 of 70 downloaded\n",
      "./pricing/spy/xli-hold-pricing.csv\n",
      "[*********************100%***********************]  71 of 71 downloaded\n",
      "./pricing/spy/xlk-hold-pricing.csv\n",
      "[*********************100%***********************]  34 of 34 downloaded\n",
      "./pricing/spy/xlp-hold-pricing.csv\n",
      "[*********************100%***********************]  33 of 33 downloaded\n",
      "./pricing/spy/xlre-hold-pricing.csv\n",
      "[*********************100%***********************]  28 of 28 downloaded\n",
      "./pricing/spy/xlu-hold-pricing.csv\n",
      "[*********************100%***********************]  61 of 61 downloaded\n",
      "./pricing/spy/xlv-hold-pricing.csv\n",
      "[*********************100%***********************]  84 of 84 downloaded\n",
      "./pricing/spy/xly-hold-pricing.csv\n"
     ]
    }
   ],
   "source": [
    "### refresh components\n",
    "for i in universe:\n",
    "    for j in sector_etf[i]:\n",
    "        [i,j,ticker_map[j]]\n",
    "etfs=[[i,j,ticker_map[j]] for j in sector_etf[i] for i in universe]\n",
    "for i in etfs:\n",
    "    get_pricing(output_name=pricing_path+i[0]+\"/\"+i[1]+\"-hold-pricing.csv\",\n",
    "        ticker_list=i[2],start_date=start_date)"
   ]
  },
  {
   "cell_type": "code",
   "execution_count": 26,
   "metadata": {},
   "outputs": [
    {
     "name": "stdout",
     "output_type": "stream",
     "text": [
      "[*********************100%***********************]  10 of 10 downloaded\n",
      "./pricing//spy/spy-sectors.csv\n"
     ]
    }
   ],
   "source": [
    "## refresh etf sectors \n",
    "sectors=[[i,sector_etf[i]] for i in universe]\n",
    "for j in sectors:\n",
    "    get_pricing(output_name=pricing_path+\"/\"+j[0]+\"/\"+j[0]+'-sectors.csv', \n",
    "        ticker_list=j[1], start_date=start_date)"
   ]
  },
  {
   "cell_type": "code",
   "execution_count": 27,
   "metadata": {},
   "outputs": [
    {
     "name": "stdout",
     "output_type": "stream",
     "text": [
      "[*********************100%***********************]  1 of 1 downloaded\n",
      "./pricing//spy/SPY.csv\n"
     ]
    }
   ],
   "source": [
    "# refresh spy index\n",
    "get_pricing(output_name=pricing_path+'/spy/SPY.csv', ticker_list='SPY', start_date=start_date)\n"
   ]
  }
 ],
 "metadata": {
  "kernelspec": {
   "display_name": "Python 3",
   "language": "python",
   "name": "python3"
  }
 },
 "nbformat": 4,
 "nbformat_minor": 2
}
