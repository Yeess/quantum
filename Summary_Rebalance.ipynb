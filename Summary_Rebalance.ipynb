{
 "cells": [
  {
   "cell_type": "code",
   "execution_count": null,
   "metadata": {
    "collapsed": true
   },
   "outputs": [],
   "source": [
    "import pandas as pd\n",
    "\n",
    "lb = 20\n",
    "date_fmt = '%m-%d-%Y'\n",
    "consol_px=pd.read_pickle(\"consol_px.pkl\")\n",
    "recommend=pd.read_pickle(\"recommend.pkl\")\n",
    "px_portion=pd.read_pickle(\"px_portion.pkl\")\n",
    "rec=pd.read_pickle(\"rec.pkl\")"
   ]
  },
  {
   "cell_type": "code",
   "execution_count": null,
   "metadata": {
    "collapsed": true
   },
   "outputs": [],
   "source": [
    "\n",
    "def port_metrics(px, rec):\n",
    "    # this is supposed to be the righ way to calculate the portfolio risk\n",
    "    px.sort_index(inplace=True)\n",
    "    returns = px[rec.index.tolist()].pct_change()\n",
    "    mean_daily_returns = returns.mean()\n",
    "    cov_matrix = returns.cov()\n",
    "    weights = np.asarray(rec.values)\n",
    "    mult = len(mean_daily_returns)\n",
    "    #port_return = np.sum(mean_daily_returns.values * weights) * mult # bug fix\n",
    "    port_return = np.dot(mean_daily_returns.values, weights) * mult\n",
    "    port_risk = np.sqrt(np.dot(weights.T, np.dot(cov_matrix.values, weights))) * np.sqrt(mult)\n",
    "    return port_return[0], port_risk[0][0]"
   ]
  },
  {
   "cell_type": "code",
   "execution_count": null,
   "metadata": {
    "collapsed": true
   },
   "outputs": [],
   "source": [
    "\n",
    "# Outputs for trade execution\n",
    "px = consol_px[recommend.index][-lb:]\n",
    "date = px[-1:].index.to_datetime().strftime(date_fmt)[0]\n",
    "# HAS AN ISSUE HERE INCONSISTEN ***\n",
    "\n",
    "trading_cols = ['Company', 'Price', 'Allocation', 'Dollar Value', 'Shares']\n",
    "trading_df = pd.DataFrame([], index=rec.index, columns=trading_cols)\n",
    "\n",
    "round_shares = lambda x: round(x, 0)\n",
    "port_bal = 227000; alloc = rec.T.values\n",
    "pvalue = (port_bal * alloc)\n",
    "shares = (port_bal * alloc) / px[-1:]\n",
    "shares.apply(round_shares).T.sort_index()\n",
    "\n",
    "trading_df['Company'] = recommend['Company']\n",
    "trading_df['Price'] = px[-1:].T\n",
    "trading_df['Allocation'] = recommend['Allocation']\n",
    "trading_df['Dollar Value'] = trading_df['Allocation'] * port_bal\n",
    "trading_df['Shares'] = trading_df['Dollar Value'] / trading_df['Price']\n",
    "\n",
    "print(\"Frame: {}, Lookback: {}, MinGrossAlloc: {}, MaxGrossAlloc: {}, MinWeight: {}, MaxWeight: {}\".format(frame, lb, min_gross, max_gross, min_w, max_w))\n",
    "print(\"Ann. Ret: {0:.2f}, Risk: {1:.2f} Sharpe: {2:.2f}\".format(ret, risk, ret / risk))\n",
    "print(\"Date: {0}, Total Invested: {1:.2f}, Total Allocation: {2:.2f}%\".format(date, trading_df['Dollar Value'].sum(), trading_df['Allocation'].sum() * 100))\n",
    "\n",
    "trading_df.sort_index()"
   ]
  }
 ],
 "metadata": {
  "kernelspec": {
   "display_name": "Python 3",
   "language": "python",
   "name": "python3"
  },
  "language_info": {
   "codemirror_mode": {
    "name": "ipython",
    "version": 3
   },
   "file_extension": ".py",
   "mimetype": "text/x-python",
   "name": "python",
   "nbconvert_exporter": "python",
   "pygments_lexer": "ipython3",
   "version": "3.4.3"
  }
 },
 "nbformat": 4,
 "nbformat_minor": 2
}
